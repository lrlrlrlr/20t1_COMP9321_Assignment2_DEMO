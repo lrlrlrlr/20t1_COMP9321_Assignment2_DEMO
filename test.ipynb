{
 "cells": [
  {
   "cell_type": "code",
   "execution_count": 16,
   "metadata": {},
   "outputs": [],
   "source": [
    "import requests, pandas"
   ]
  },
  {
   "cell_type": "code",
   "execution_count": 27,
   "metadata": {},
   "outputs": [],
   "source": [
    "# Q1 test\n",
    "for ind in [\"1.0.HCount.1.90usd\", \"1.0.HCount.2.5usd\", \"1.0.HCount.Ofcl\"]:\n",
    "    r = requests.post(f'http://127.0.0.1:5890/collections?indicator_id={ind}')\n",
    "    r.json()"
   ]
  },
  {
   "cell_type": "code",
   "execution_count": 4,
   "metadata": {},
   "outputs": [
    {
     "data": {
      "text/plain": [
       "{'message': 'The collection 3 was removed from the database'}"
      ]
     },
     "execution_count": 4,
     "metadata": {},
     "output_type": "execute_result"
    }
   ],
   "source": [
    "# Q2 test\n",
    "r =  requests.delete('http://127.0.0.1:5890/collections/3')\n",
    "r.json()"
   ]
  },
  {
   "cell_type": "code",
   "execution_count": 5,
   "metadata": {
    "scrolled": false
   },
   "outputs": [
    {
     "data": {
      "text/plain": [
       "[{'creation_time': '2020-03-28 20:40:08',\n",
       "  'id': 2,\n",
       "  'indicator_id': '1.0.HCount.2.5usd',\n",
       "  'uri': '/collections/2'},\n",
       " {'creation_time': '2020-03-28 20:40:05',\n",
       "  'id': 1,\n",
       "  'indicator_id': '1.0.HCount.1.90usd',\n",
       "  'uri': '/collections/1'}]"
      ]
     },
     "execution_count": 5,
     "metadata": {},
     "output_type": "execute_result"
    }
   ],
   "source": [
    "# Q3 test\n",
    "\n",
    "r = requests.get('http://127.0.0.1:5890/collections?order_by={-id}')\n",
    "r.json()"
   ]
  },
  {
   "cell_type": "code",
   "execution_count": 21,
   "metadata": {},
   "outputs": [
    {
     "data": {
      "text/plain": [
       "{'uri': '/collections/2',\n",
       " 'id': 2,\n",
       " 'creation_time': '2020-03-28 20:56:25',\n",
       " 'indicator_id': '1.0.HCount.2.5usd',\n",
       " 'entries': [{'country': 'Andean Region',\n",
       "   'date': '2014',\n",
       "   'value': 12.0147485733032},\n",
       "  {'country': 'Andean Region', 'date': '2013', 'value': 12.7574424743652},\n",
       "  {'country': 'Andean Region', 'date': '2012', 'value': 14.7959203720093},\n",
       "  {'country': 'Argentina', 'date': '2014', 'value': 5.40922260284424},\n",
       "  {'country': 'Argentina', 'date': '2013', 'value': 4.4649863243103},\n",
       "  {'country': 'Argentina', 'date': '2012', 'value': 4.68591737747192},\n",
       "  {'country': 'Bolivia', 'date': '2014', 'value': 14.0086755752563},\n",
       "  {'country': 'Bolivia', 'date': '2013', 'value': 14.4473428726196},\n",
       "  {'country': 'Bolivia', 'date': '2012', 'value': 17.1273899078369},\n",
       "  {'country': 'Brazil', 'date': '2014', 'value': 7.81623363494873},\n",
       "  {'country': 'Brazil', 'date': '2013', 'value': nan},\n",
       "  {'country': 'Brazil', 'date': '2012', 'value': 9.61252117156982},\n",
       "  {'country': 'Central America', 'date': '2014', 'value': 23.1071872711182},\n",
       "  {'country': 'Central America', 'date': '2013', 'value': 24.010684967041},\n",
       "  {'country': 'Central America', 'date': '2012', 'value': 24.932918548584},\n",
       "  {'country': 'Chile', 'date': '2014', 'value': nan},\n",
       "  {'country': 'Chile', 'date': '2013', 'value': 2.03854966163635},\n",
       "  {'country': 'Chile', 'date': '2012', 'value': nan},\n",
       "  {'country': 'Colombia', 'date': '2014', 'value': 14.4610137939453},\n",
       "  {'country': 'Colombia', 'date': '2013', 'value': 15.1662120819092},\n",
       "  {'country': 'Colombia', 'date': '2012', 'value': 17.5397624969482},\n",
       "  {'country': 'Costa Rica', 'date': '2014', 'value': 4.6021556854248},\n",
       "  {'country': 'Costa Rica', 'date': '2013', 'value': 4.61129140853882},\n",
       "  {'country': 'Costa Rica', 'date': '2012', 'value': 4.73445892333984},\n",
       "  {'country': 'Dominican Republic', 'date': '2014', 'value': nan},\n",
       "  {'country': 'Dominican Republic', 'date': '2013', 'value': 13.8788480758667},\n",
       "  {'country': 'Dominican Republic', 'date': '2012', 'value': 14.5516204833984},\n",
       "  {'country': 'Ecuador', 'date': '2014', 'value': 9.33788585662842},\n",
       "  {'country': 'Ecuador', 'date': '2013', 'value': 10.4638319015503},\n",
       "  {'country': 'Ecuador', 'date': '2012', 'value': 12.8523483276367},\n",
       "  {'country': 'El Salvador', 'date': '2014', 'value': 12.3164157867432},\n",
       "  {'country': 'El Salvador', 'date': '2013', 'value': 12.7175798416138},\n",
       "  {'country': 'El Salvador', 'date': '2012', 'value': 14.6787967681885},\n",
       "  {'country': 'Guatemala', 'date': '2014', 'value': 36.9438552856445},\n",
       "  {'country': 'Guatemala', 'date': '2013', 'value': nan},\n",
       "  {'country': 'Guatemala', 'date': '2012', 'value': nan},\n",
       "  {'country': 'Honduras', 'date': '2014', 'value': 36.209358215332},\n",
       "  {'country': 'Honduras', 'date': '2013', 'value': 39.6452102661133},\n",
       "  {'country': 'Honduras', 'date': '2012', 'value': 42.4187431335449},\n",
       "  {'country': 'Latin America and the Caribbean',\n",
       "   'date': '2014',\n",
       "   'value': 10.7785749435425},\n",
       "  {'country': 'Latin America and the Caribbean',\n",
       "   'date': '2013',\n",
       "   'value': 11.2088384628296},\n",
       "  {'country': 'Latin America and the Caribbean',\n",
       "   'date': '2012',\n",
       "   'value': 12.1378555297852},\n",
       "  {'country': 'Mexico', 'date': '2014', 'value': 11.7143821716309},\n",
       "  {'country': 'Mexico', 'date': '2013', 'value': nan},\n",
       "  {'country': 'Mexico', 'date': '2012', 'value': 11.4482707977295},\n",
       "  {'country': 'Nicaragua', 'date': '2014', 'value': 20.3077869415283},\n",
       "  {'country': 'Nicaragua', 'date': '2013', 'value': nan},\n",
       "  {'country': 'Nicaragua', 'date': '2012', 'value': nan},\n",
       "  {'country': 'Panama', 'date': '2014', 'value': 10.1643695831299},\n",
       "  {'country': 'Panama', 'date': '2013', 'value': 9.85720348358154},\n",
       "  {'country': 'Panama', 'date': '2012', 'value': 11.7760934829712},\n",
       "  {'country': 'Paraguay', 'date': '2014', 'value': 8.9941930770874},\n",
       "  {'country': 'Paraguay', 'date': '2013', 'value': 8.27206039428711},\n",
       "  {'country': 'Paraguay', 'date': '2012', 'value': 12.0395565032959},\n",
       "  {'country': 'Peru', 'date': '2014', 'value': 9.16460800170898},\n",
       "  {'country': 'Peru', 'date': '2013', 'value': 9.84639739990234},\n",
       "  {'country': 'Peru', 'date': '2012', 'value': 10.9057292938232},\n",
       "  {'country': 'Southern Cone', 'date': '2014', 'value': 4.57171535491943},\n",
       "  {'country': 'Southern Cone', 'date': '2013', 'value': 4.03486251831055},\n",
       "  {'country': 'Southern Cone', 'date': '2012', 'value': 4.75614070892334},\n",
       "  {'country': 'Uruguay', 'date': '2014', 'value': 2.0393226146698},\n",
       "  {'country': 'Uruguay', 'date': '2013', 'value': 2.44984579086304},\n",
       "  {'country': 'Uruguay', 'date': '2012', 'value': 2.63842868804932},\n",
       "  {'country': 'Venezuela, RB', 'date': '2014', 'value': nan},\n",
       "  {'country': 'Venezuela, RB', 'date': '2013', 'value': nan},\n",
       "  {'country': 'Venezuela, RB', 'date': '2012', 'value': nan}]}"
      ]
     },
     "execution_count": 21,
     "metadata": {},
     "output_type": "execute_result"
    }
   ],
   "source": [
    "# Q4 test\n",
    "r =  requests.get('http://127.0.0.1:5890/collections/2')\n",
    "r.json()"
   ]
  },
  {
   "cell_type": "code",
   "execution_count": 28,
   "metadata": {},
   "outputs": [
    {
     "data": {
      "text/plain": [
       "[{'id': 2,\n",
       "  'indicator': '1.0.HCount.2.5usd',\n",
       "  'country': 'Panama',\n",
       "  'date': '2013',\n",
       "  'value': 9.85720348358154}]"
      ]
     },
     "execution_count": 28,
     "metadata": {},
     "output_type": "execute_result"
    }
   ],
   "source": [
    "# Q5 test\n",
    "r =  requests.get('http://127.0.0.1:5890/collections/2/2013/Panama')\n",
    "r.json()"
   ]
  },
  {
   "cell_type": "code",
   "execution_count": 8,
   "metadata": {},
   "outputs": [
    {
     "data": {
      "text/plain": [
       "[{'country': 'Uruguay', 'date': '2013', 'value': 0.34760394692421},\n",
       " {'country': 'Chile', 'date': '2013', 'value': 0.917679250240326},\n",
       " {'country': 'Southern Cone', 'date': '2013', 'value': 1.44901037216187},\n",
       " {'country': 'Costa Rica', 'date': '2013', 'value': 1.68418788909912},\n",
       " {'country': 'Argentina', 'date': '2013', 'value': 1.74582850933075}]"
      ]
     },
     "execution_count": 8,
     "metadata": {},
     "output_type": "execute_result"
    }
   ],
   "source": [
    "#Q6 test\n",
    "r =  requests.get('http://127.0.0.1:5890/collections/1/2013?q=-5')\n",
    "r.json()"
   ]
  },
  {
   "cell_type": "code",
   "execution_count": 9,
   "metadata": {},
   "outputs": [
    {
     "ename": "NameError",
     "evalue": "name 'df' is not defined",
     "traceback": [
      "\u001b[1;31m---------------------------------------------------------------------------\u001b[0m",
      "\u001b[1;31mNameError\u001b[0m                                 Traceback (most recent call last)",
      "\u001b[1;32m<ipython-input-9-15237e5239a5>\u001b[0m in \u001b[0;36m<module>\u001b[1;34m()\u001b[0m\n\u001b[1;32m----> 1\u001b[1;33m \u001b[0mdf\u001b[0m\u001b[1;33m.\u001b[0m\u001b[0msort_values\u001b[0m\u001b[1;33m(\u001b[0m\u001b[1;34m'value'\u001b[0m\u001b[1;33m,\u001b[0m \u001b[0mascending\u001b[0m\u001b[1;33m=\u001b[0m\u001b[1;32mFalse\u001b[0m\u001b[1;33m)\u001b[0m\u001b[1;33m.\u001b[0m\u001b[0mhead\u001b[0m\u001b[1;33m(\u001b[0m\u001b[1;36m5\u001b[0m\u001b[1;33m)\u001b[0m\u001b[1;33m.\u001b[0m\u001b[0mto_dict\u001b[0m\u001b[1;33m(\u001b[0m\u001b[1;34m'r'\u001b[0m\u001b[1;33m)\u001b[0m\u001b[1;33m\u001b[0m\u001b[0m\n\u001b[0m",
      "\u001b[1;31mNameError\u001b[0m: name 'df' is not defined"
     ],
     "output_type": "error"
    }
   ],
   "source": []
  }
 ],
 "metadata": {
  "kernelspec": {
   "display_name": "Python 3",
   "language": "python",
   "name": "python3"
  },
  "language_info": {
   "codemirror_mode": {
    "name": "ipython",
    "version": 3
   },
   "file_extension": ".py",
   "mimetype": "text/x-python",
   "name": "python",
   "nbconvert_exporter": "python",
   "pygments_lexer": "ipython3",
   "version": "3.7.0"
  }
 },
 "nbformat": 4,
 "nbformat_minor": 2
}
